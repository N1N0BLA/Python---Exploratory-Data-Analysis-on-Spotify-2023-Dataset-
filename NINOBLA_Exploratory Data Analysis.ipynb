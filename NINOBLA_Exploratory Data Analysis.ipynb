{
 "cells": [
  {
   "cell_type": "markdown",
   "id": "aeb48540-728e-4f86-8c12-c11d70c127b7",
   "metadata": {},
   "source": [
    "# Python - Exploratory Data Analysis on Spotify 2023 Dataset"
   ]
  },
  {
   "cell_type": "markdown",
   "id": "b433345c-1ef0-43d7-a624-30f8d2732fad",
   "metadata": {},
   "source": [
    "### JOSE MARTIN SJ. NINOBLA                                                                   \n",
    "### 2 ECE - D"
   ]
  },
  {
   "cell_type": "markdown",
   "id": "fd22d51d-5775-4b96-818b-cc706e0f3178",
   "metadata": {},
   "source": [
    "#### Importing Pandas and Data:"
   ]
  },
  {
   "cell_type": "code",
   "execution_count": 3,
   "id": "17e312f7-110e-4bc9-b12c-ffac7e3dd3c1",
   "metadata": {},
   "outputs": [],
   "source": [
    "import pandas as pd"
   ]
  },
  {
   "cell_type": "code",
   "execution_count": 63,
   "id": "9ac00e18-3fd9-4265-b604-2b37cf102038",
   "metadata": {},
   "outputs": [],
   "source": [
    "df = pd.read_csv('spotify-2023.csv',encoding='latin1')"
   ]
  },
  {
   "cell_type": "markdown",
   "id": "2efa6d7f-5c44-4af2-b711-459d10a17689",
   "metadata": {},
   "source": [
    "### 1. Overview of Dataset"
   ]
  },
  {
   "cell_type": "markdown",
   "id": "1a60d206-9b9f-4de7-a40c-0594ea2fdc76",
   "metadata": {},
   "source": [
    "#### - How many rows and columns does the dataset contain??"
   ]
  },
  {
   "cell_type": "markdown",
   "id": "92811039-3060-4bdb-a65c-17b7d16a7c96",
   "metadata": {},
   "source": [
    "#### - What are the data types of each column? Are there any missing values?"
   ]
  },
  {
   "cell_type": "code",
   "execution_count": 73,
   "id": "ddbc0c4c-6234-4697-83dc-7c9c588f1e64",
   "metadata": {},
   "outputs": [
    {
     "name": "stdout",
     "output_type": "stream",
     "text": [
      "<class 'pandas.core.frame.DataFrame'>\n",
      "RangeIndex: 953 entries, 0 to 952\n",
      "Data columns (total 24 columns):\n",
      " #   Column                Non-Null Count  Dtype \n",
      "---  ------                --------------  ----- \n",
      " 0   track_name            953 non-null    object\n",
      " 1   artist(s)_name        953 non-null    object\n",
      " 2   artist_count          953 non-null    int64 \n",
      " 3   released_year         953 non-null    int64 \n",
      " 4   released_month        953 non-null    int64 \n",
      " 5   released_day          953 non-null    int64 \n",
      " 6   in_spotify_playlists  953 non-null    int64 \n",
      " 7   in_spotify_charts     953 non-null    int64 \n",
      " 8   streams               953 non-null    object\n",
      " 9   in_apple_playlists    953 non-null    int64 \n",
      " 10  in_apple_charts       953 non-null    int64 \n",
      " 11  in_deezer_playlists   953 non-null    object\n",
      " 12  in_deezer_charts      953 non-null    int64 \n",
      " 13  in_shazam_charts      903 non-null    object\n",
      " 14  bpm                   953 non-null    int64 \n",
      " 15  key                   858 non-null    object\n",
      " 16  mode                  953 non-null    object\n",
      " 17  danceability_%        953 non-null    int64 \n",
      " 18  valence_%             953 non-null    int64 \n",
      " 19  energy_%              953 non-null    int64 \n",
      " 20  acousticness_%        953 non-null    int64 \n",
      " 21  instrumentalness_%    953 non-null    int64 \n",
      " 22  liveness_%            953 non-null    int64 \n",
      " 23  speechiness_%         953 non-null    int64 \n",
      "dtypes: int64(17), object(7)\n",
      "memory usage: 178.8+ KB\n"
     ]
    }
   ],
   "source": [
    "df.info()"
   ]
  },
  {
   "cell_type": "code",
   "execution_count": 77,
   "id": "1961056c-e24d-4668-8d18-749eb88f89ed",
   "metadata": {},
   "outputs": [],
   "source": [
    "missing_values = df.isnull().sum()"
   ]
  },
  {
   "cell_type": "code",
   "execution_count": 79,
   "id": "0e2df4a7-93cf-4580-a209-db4b5f4da275",
   "metadata": {},
   "outputs": [
    {
     "name": "stdout",
     "output_type": "stream",
     "text": [
      "track_name               0\n",
      "artist(s)_name           0\n",
      "artist_count             0\n",
      "released_year            0\n",
      "released_month           0\n",
      "released_day             0\n",
      "in_spotify_playlists     0\n",
      "in_spotify_charts        0\n",
      "streams                  0\n",
      "in_apple_playlists       0\n",
      "in_apple_charts          0\n",
      "in_deezer_playlists      0\n",
      "in_deezer_charts         0\n",
      "in_shazam_charts        50\n",
      "bpm                      0\n",
      "key                     95\n",
      "mode                     0\n",
      "danceability_%           0\n",
      "valence_%                0\n",
      "energy_%                 0\n",
      "acousticness_%           0\n",
      "instrumentalness_%       0\n",
      "liveness_%               0\n",
      "speechiness_%            0\n",
      "dtype: int64\n"
     ]
    }
   ],
   "source": [
    "print(missing_values)"
   ]
  },
  {
   "cell_type": "markdown",
   "id": "a59f7455-c317-40af-bf28-3baed3076911",
   "metadata": {},
   "source": [
    "### 2. Basic Descriptive Statistics"
   ]
  },
  {
   "cell_type": "markdown",
   "id": "46e63642-cca5-492e-9cde-2d2e1554b3e2",
   "metadata": {},
   "source": [
    "#### - What are the mean, median, and standard deviation of the streams column?\n",
    "#### - What is the distribution of released_year and artist_count? Are there any noticeable trends or outliers?"
   ]
  },
  {
   "cell_type": "code",
   "execution_count": 82,
   "id": "9c1102e5-e823-46dd-88cc-2d903952a884",
   "metadata": {},
   "outputs": [
    {
     "name": "stdout",
     "output_type": "stream",
     "text": [
      "object\n"
     ]
    }
   ],
   "source": [
    "print(df['streams'].dtype)"
   ]
  },
  {
   "cell_type": "code",
   "execution_count": 84,
   "id": "0b878d8d-73c2-410d-a380-4ce15556b902",
   "metadata": {},
   "outputs": [],
   "source": [
    "df['streams'] = pd.to_numeric(df['streams'], errors='coerce')"
   ]
  },
  {
   "cell_type": "code",
   "execution_count": 86,
   "id": "440d8232-8f47-481e-9420-5b9e5712b875",
   "metadata": {},
   "outputs": [
    {
     "data": {
      "text/plain": [
       "514137424.93907565"
      ]
     },
     "execution_count": 86,
     "metadata": {},
     "output_type": "execute_result"
    }
   ],
   "source": [
    "df['streams'].mean()"
   ]
  },
  {
   "cell_type": "code",
   "execution_count": 88,
   "id": "a0ec9cec-00b3-4640-a916-831aeff1d5ce",
   "metadata": {},
   "outputs": [
    {
     "data": {
      "text/plain": [
       "290530915.0"
      ]
     },
     "execution_count": 88,
     "metadata": {},
     "output_type": "execute_result"
    }
   ],
   "source": [
    "df['streams'].median()"
   ]
  },
  {
   "cell_type": "code",
   "execution_count": 90,
   "id": "ce68f61d-ae0f-4acb-8f61-07a89374b8f7",
   "metadata": {},
   "outputs": [
    {
     "data": {
      "text/plain": [
       "566856949.0388832"
      ]
     },
     "execution_count": 90,
     "metadata": {},
     "output_type": "execute_result"
    }
   ],
   "source": [
    "df['streams'].std()"
   ]
  },
  {
   "cell_type": "code",
   "execution_count": null,
   "id": "33703cae-c2ef-4c16-a38a-222f49a08243",
   "metadata": {},
   "outputs": [],
   "source": []
  }
 ],
 "metadata": {
  "kernelspec": {
   "display_name": "Python 3 (ipykernel)",
   "language": "python",
   "name": "python3"
  },
  "language_info": {
   "codemirror_mode": {
    "name": "ipython",
    "version": 3
   },
   "file_extension": ".py",
   "mimetype": "text/x-python",
   "name": "python",
   "nbconvert_exporter": "python",
   "pygments_lexer": "ipython3",
   "version": "3.12.4"
  }
 },
 "nbformat": 4,
 "nbformat_minor": 5
}
